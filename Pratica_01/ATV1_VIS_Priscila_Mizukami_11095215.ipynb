{
 "cells": [
  {
   "attachments": {},
   "cell_type": "markdown",
   "id": "5dbf6fcc",
   "metadata": {},
   "source": [
    "# Visualização de Dados e Informações - Prática #01\n",
    "\n",
    "### Adinan Alves de Brito Filho\n",
    "### Priscila Cristina de Souza Mizukami"
   ]
  },
  {
   "cell_type": "code",
   "execution_count": 2,
   "id": "8530b17b",
   "metadata": {},
   "outputs": [],
   "source": [
    "#Importando pacotes\n",
    "import pandas as pd"
   ]
  },
  {
   "cell_type": "code",
   "execution_count": 3,
   "id": "2c3e9019",
   "metadata": {},
   "outputs": [],
   "source": [
    "#Lê csv e transforma em um dataframe \n",
    "df_vendas = pd.read_csv('Vendas.csv',encoding='windows-1252')"
   ]
  },
  {
   "attachments": {},
   "cell_type": "markdown",
   "id": "eba9ecfc",
   "metadata": {},
   "source": [
    "## Questão 1\n",
    "\n",
    "Segundo seu chefe, o pessoal de Vendas adora Excel. Assim, eles gostariam de receber um CSV para contrastar _Sales X Profit_ segmentado por _Region_, destacando qual a média de _Discount_ aplicado."
   ]
  },
  {
   "cell_type": "code",
   "execution_count": 4,
   "id": "5fd0f062",
   "metadata": {},
   "outputs": [],
   "source": [
    "#Cria novo df apenas com as colunas que vamos precisar \n",
    "df_client = df_vendas.drop(columns=['Row ID', 'Order ID', 'Order Date', 'Ship Date', 'Ship Mode',\n",
    "       'Customer ID', 'Customer Name', 'Segment', 'Country', 'City', 'State',\n",
    "       'Postal Code','Product ID', 'Category', 'Sub-Category',\n",
    "       'Product Name', 'Quantity'])"
   ]
  },
  {
   "cell_type": "code",
   "execution_count": 5,
   "id": "2edfa342",
   "metadata": {
    "scrolled": false
   },
   "outputs": [
    {
     "name": "stdout",
     "output_type": "stream",
     "text": [
      "               Sales       Profit\n",
      "Region                           \n",
      "Central  501239.8908   39706.3625\n",
      "East     678781.2400   91522.7800\n",
      "South    391721.9050   46749.4303\n",
      "West     725457.8245  108418.4489\n"
     ]
    }
   ],
   "source": [
    "#Agrupa por região\n",
    "df_geral = df_vendas.groupby('Region')[['Sales','Profit']].sum()\n",
    "print(df_geral)"
   ]
  },
  {
   "cell_type": "code",
   "execution_count": 6,
   "id": "59dd6d97",
   "metadata": {
    "scrolled": true
   },
   "outputs": [],
   "source": [
    "#Cria um df pra cada região\n",
    "df_central = df_client.loc[df_vendas['Region'] == 'Central']\n",
    "df_east = df_client.loc[df_vendas['Region'] == 'East']\n",
    "df_south = df_client.loc[df_vendas['Region'] == 'South']\n",
    "df_west = df_client.loc[df_vendas['Region'] == 'West']"
   ]
  },
  {
   "cell_type": "code",
   "execution_count": 7,
   "id": "b70ba285",
   "metadata": {
    "scrolled": true
   },
   "outputs": [],
   "source": [
    "#Calcula média de disconto\n",
    "mean_central = df_central['Discount'].mean()\n",
    "mean_east = df_east['Discount'].mean()\n",
    "mean_south = df_south['Discount'].mean()\n",
    "mean_west = df_west['Discount'].mean()"
   ]
  },
  {
   "cell_type": "code",
   "execution_count": 8,
   "id": "3f18d6d4",
   "metadata": {},
   "outputs": [],
   "source": [
    "#cria uma lista de médias\n",
    "mediadis = [mean_central, mean_east, mean_south, mean_west]"
   ]
  },
  {
   "cell_type": "code",
   "execution_count": 9,
   "id": "1e9e4fa2",
   "metadata": {
    "scrolled": true
   },
   "outputs": [
    {
     "name": "stdout",
     "output_type": "stream",
     "text": [
      "               Sales       Profit  Discount_Media\n",
      "Region                                           \n",
      "Central  501239.8908   39706.3625        0.240353\n",
      "East     678781.2400   91522.7800        0.145365\n",
      "South    391721.9050   46749.4303        0.147253\n",
      "West     725457.8245  108418.4489        0.109335\n"
     ]
    }
   ],
   "source": [
    "#adc coluna das médias\n",
    "df_geral['Discount_Media'] = mediadis\n",
    "print(df_geral)"
   ]
  },
  {
   "cell_type": "code",
   "execution_count": 10,
   "id": "2a29a518",
   "metadata": {},
   "outputs": [],
   "source": [
    "#Exporta dados em um csv\n",
    "df_geral.to_csv(\"Q1_vendas_regiao.csv\")"
   ]
  },
  {
   "attachments": {},
   "cell_type": "markdown",
   "id": "63d7a741",
   "metadata": {},
   "source": [
    "## Questão 2\n",
    "\n",
    "Já para o pessoal de marketing de produto, seu chefe indicou que eles gostariam de uma visão de _Profit_ acumulado por ano _(Order Date)_ para cada um das sub-categorias de produto _(Sub-Category)_. Marketing adora um gráfico de barras! Você pode usar a biblioteca _matplotlib_ ou _seaborn_."
   ]
  },
  {
   "cell_type": "code",
   "execution_count": null,
   "id": "a6fcd623",
   "metadata": {},
   "outputs": [],
   "source": []
  }
 ],
 "metadata": {
  "kernelspec": {
   "display_name": ".venv",
   "language": "python",
   "name": "python3"
  },
  "language_info": {
   "codemirror_mode": {
    "name": "ipython",
    "version": 3
   },
   "file_extension": ".py",
   "mimetype": "text/x-python",
   "name": "python",
   "nbconvert_exporter": "python",
   "pygments_lexer": "ipython3",
   "version": "3.10.7"
  },
  "vscode": {
   "interpreter": {
    "hash": "2f9e1f17d55a693093f5c037439e642c4d34d25de1a587d4761b24ab6ad8d5bd"
   }
  }
 },
 "nbformat": 4,
 "nbformat_minor": 5
}
