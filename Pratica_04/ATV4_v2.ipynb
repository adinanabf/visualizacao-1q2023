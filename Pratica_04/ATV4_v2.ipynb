{
 "cells": [
  {
   "cell_type": "code",
   "execution_count": 1,
   "id": "19105fba",
   "metadata": {},
   "outputs": [],
   "source": [
    "import pandas as pd\n",
    "import seaborn as sns\n",
    "import matplotlib.pyplot as plt"
   ]
  },
  {
   "cell_type": "code",
   "execution_count": 45,
   "id": "e912705a",
   "metadata": {},
   "outputs": [
    {
     "data": {
      "text/html": [
       "<div>\n",
       "<style scoped>\n",
       "    .dataframe tbody tr th:only-of-type {\n",
       "        vertical-align: middle;\n",
       "    }\n",
       "\n",
       "    .dataframe tbody tr th {\n",
       "        vertical-align: top;\n",
       "    }\n",
       "\n",
       "    .dataframe thead th {\n",
       "        text-align: right;\n",
       "    }\n",
       "</style>\n",
       "<table border=\"1\" class=\"dataframe\">\n",
       "  <thead>\n",
       "    <tr style=\"text-align: right;\">\n",
       "      <th></th>\n",
       "      <th>District NCES ID</th>\n",
       "      <th>District Name</th>\n",
       "      <th>Week</th>\n",
       "      <th>Learning Modality</th>\n",
       "      <th>Operational Schools</th>\n",
       "      <th>Student Count</th>\n",
       "      <th>City</th>\n",
       "      <th>State</th>\n",
       "      <th>ZIP Code</th>\n",
       "    </tr>\n",
       "  </thead>\n",
       "  <tbody>\n",
       "    <tr>\n",
       "      <th>0</th>\n",
       "      <td>100005</td>\n",
       "      <td>Albertville City</td>\n",
       "      <td>12/25/2022 12:00:00 AM</td>\n",
       "      <td>In Person</td>\n",
       "      <td>6</td>\n",
       "      <td>5824.0</td>\n",
       "      <td>Albertville</td>\n",
       "      <td>AL</td>\n",
       "      <td>35950</td>\n",
       "    </tr>\n",
       "    <tr>\n",
       "      <th>1</th>\n",
       "      <td>100006</td>\n",
       "      <td>Marshall County</td>\n",
       "      <td>12/25/2022 12:00:00 AM</td>\n",
       "      <td>In Person</td>\n",
       "      <td>15</td>\n",
       "      <td>5764.0</td>\n",
       "      <td>Guntersville</td>\n",
       "      <td>AL</td>\n",
       "      <td>35976</td>\n",
       "    </tr>\n",
       "    <tr>\n",
       "      <th>2</th>\n",
       "      <td>100007</td>\n",
       "      <td>Hoover City</td>\n",
       "      <td>12/25/2022 12:00:00 AM</td>\n",
       "      <td>In Person</td>\n",
       "      <td>18</td>\n",
       "      <td>14061.0</td>\n",
       "      <td>Hoover</td>\n",
       "      <td>AL</td>\n",
       "      <td>35243</td>\n",
       "    </tr>\n",
       "    <tr>\n",
       "      <th>3</th>\n",
       "      <td>100008</td>\n",
       "      <td>Madison City</td>\n",
       "      <td>12/25/2022 12:00:00 AM</td>\n",
       "      <td>In Person</td>\n",
       "      <td>11</td>\n",
       "      <td>11695.0</td>\n",
       "      <td>Madison</td>\n",
       "      <td>AL</td>\n",
       "      <td>35758</td>\n",
       "    </tr>\n",
       "    <tr>\n",
       "      <th>4</th>\n",
       "      <td>100011</td>\n",
       "      <td>Leeds City</td>\n",
       "      <td>12/25/2022 12:00:00 AM</td>\n",
       "      <td>In Person</td>\n",
       "      <td>4</td>\n",
       "      <td>2076.0</td>\n",
       "      <td>Leeds</td>\n",
       "      <td>AL</td>\n",
       "      <td>35094</td>\n",
       "    </tr>\n",
       "    <tr>\n",
       "      <th>...</th>\n",
       "      <td>...</td>\n",
       "      <td>...</td>\n",
       "      <td>...</td>\n",
       "      <td>...</td>\n",
       "      <td>...</td>\n",
       "      <td>...</td>\n",
       "      <td>...</td>\n",
       "      <td>...</td>\n",
       "      <td>...</td>\n",
       "    </tr>\n",
       "    <tr>\n",
       "      <th>994783</th>\n",
       "      <td>5900187</td>\n",
       "      <td>Hannahville Indian School</td>\n",
       "      <td>08/01/2021 12:00:00 AM</td>\n",
       "      <td>In Person</td>\n",
       "      <td>1</td>\n",
       "      <td>163.0</td>\n",
       "      <td>Wilson</td>\n",
       "      <td>BI</td>\n",
       "      <td>49896</td>\n",
       "    </tr>\n",
       "    <tr>\n",
       "      <th>994784</th>\n",
       "      <td>5900190</td>\n",
       "      <td>Tiospaye Topa School</td>\n",
       "      <td>08/01/2021 12:00:00 AM</td>\n",
       "      <td>In Person</td>\n",
       "      <td>1</td>\n",
       "      <td>157.0</td>\n",
       "      <td>LaPlant</td>\n",
       "      <td>BI</td>\n",
       "      <td>57652</td>\n",
       "    </tr>\n",
       "    <tr>\n",
       "      <th>994785</th>\n",
       "      <td>5900193</td>\n",
       "      <td>Seba Dalkai Boarding School</td>\n",
       "      <td>08/01/2021 12:00:00 AM</td>\n",
       "      <td>Hybrid</td>\n",
       "      <td>1</td>\n",
       "      <td>65.0</td>\n",
       "      <td>Winslow</td>\n",
       "      <td>BI</td>\n",
       "      <td>86047</td>\n",
       "    </tr>\n",
       "    <tr>\n",
       "      <th>994786</th>\n",
       "      <td>5900197</td>\n",
       "      <td>Noli School</td>\n",
       "      <td>08/01/2021 12:00:00 AM</td>\n",
       "      <td>In Person</td>\n",
       "      <td>1</td>\n",
       "      <td>123.0</td>\n",
       "      <td>San Jacinto</td>\n",
       "      <td>BI</td>\n",
       "      <td>92581</td>\n",
       "    </tr>\n",
       "    <tr>\n",
       "      <th>994787</th>\n",
       "      <td>7200030</td>\n",
       "      <td>PUERTO RICO DEPARTMENT OF EDUCATION</td>\n",
       "      <td>08/01/2021 12:00:00 AM</td>\n",
       "      <td>In Person</td>\n",
       "      <td>849</td>\n",
       "      <td>292518.0</td>\n",
       "      <td>HATO REY</td>\n",
       "      <td>PR</td>\n",
       "      <td>919</td>\n",
       "    </tr>\n",
       "  </tbody>\n",
       "</table>\n",
       "<p>994788 rows × 9 columns</p>\n",
       "</div>"
      ],
      "text/plain": [
       "        District NCES ID                        District Name  \\\n",
       "0                 100005                     Albertville City   \n",
       "1                 100006                      Marshall County   \n",
       "2                 100007                          Hoover City   \n",
       "3                 100008                         Madison City   \n",
       "4                 100011                           Leeds City   \n",
       "...                  ...                                  ...   \n",
       "994783           5900187            Hannahville Indian School   \n",
       "994784           5900190                 Tiospaye Topa School   \n",
       "994785           5900193          Seba Dalkai Boarding School   \n",
       "994786           5900197                          Noli School   \n",
       "994787           7200030  PUERTO RICO DEPARTMENT OF EDUCATION   \n",
       "\n",
       "                          Week Learning Modality  Operational Schools  \\\n",
       "0       12/25/2022 12:00:00 AM         In Person                    6   \n",
       "1       12/25/2022 12:00:00 AM         In Person                   15   \n",
       "2       12/25/2022 12:00:00 AM         In Person                   18   \n",
       "3       12/25/2022 12:00:00 AM         In Person                   11   \n",
       "4       12/25/2022 12:00:00 AM         In Person                    4   \n",
       "...                        ...               ...                  ...   \n",
       "994783  08/01/2021 12:00:00 AM         In Person                    1   \n",
       "994784  08/01/2021 12:00:00 AM         In Person                    1   \n",
       "994785  08/01/2021 12:00:00 AM            Hybrid                    1   \n",
       "994786  08/01/2021 12:00:00 AM         In Person                    1   \n",
       "994787  08/01/2021 12:00:00 AM         In Person                  849   \n",
       "\n",
       "        Student Count          City State  ZIP Code  \n",
       "0              5824.0   Albertville    AL     35950  \n",
       "1              5764.0  Guntersville    AL     35976  \n",
       "2             14061.0        Hoover    AL     35243  \n",
       "3             11695.0       Madison    AL     35758  \n",
       "4              2076.0         Leeds    AL     35094  \n",
       "...               ...           ...   ...       ...  \n",
       "994783          163.0        Wilson    BI     49896  \n",
       "994784          157.0       LaPlant    BI     57652  \n",
       "994785           65.0       Winslow    BI     86047  \n",
       "994786          123.0   San Jacinto    BI     92581  \n",
       "994787       292518.0      HATO REY    PR       919  \n",
       "\n",
       "[994788 rows x 9 columns]"
      ]
     },
     "execution_count": 45,
     "metadata": {},
     "output_type": "execute_result"
    }
   ],
   "source": [
    "df = pd.read_csv('School_Learning_Modalities__2021-2022.csv')\n",
    "df"
   ]
  },
  {
   "cell_type": "code",
   "execution_count": 46,
   "id": "48de2231",
   "metadata": {},
   "outputs": [],
   "source": [
    "states = {\n",
    "    'AK': 'Alaska',\n",
    "    'AL': 'Alabama',\n",
    "    'AR': 'Arkansas',\n",
    "    'AZ': 'Arizona',\n",
    "    'CA': 'California',\n",
    "    'CO': 'Colorado',\n",
    "    'CT': 'Connecticut',\n",
    "    'DC': 'District of Columbia',\n",
    "    'DE': 'Delaware',\n",
    "    'FL': 'Florida',\n",
    "    'GA': 'Georgia',\n",
    "    'HI': 'Hawaii',\n",
    "    'IA': 'Iowa',\n",
    "    'ID': 'Idaho',\n",
    "    'IL': 'Illinois',\n",
    "    'IN': 'Indiana',\n",
    "    'KS': 'Kansas',\n",
    "    'KY': 'Kentucky',\n",
    "    'LA': 'Louisiana',\n",
    "    'MA': 'Massachusetts',\n",
    "    'MD': 'Maryland',\n",
    "    'ME': 'Maine',\n",
    "    'MI': 'Michigan',\n",
    "    'MN': 'Minnesota',\n",
    "    'MO': 'Missouri',\n",
    "    'MS': 'Mississippi',\n",
    "    'MT': 'Montana',\n",
    "    'NC': 'North Carolina',\n",
    "    'ND': 'North Dakota',\n",
    "    'NE': 'Nebraska',\n",
    "    'NH': 'New Hampshire',\n",
    "    'NJ': 'New Jersey',\n",
    "    'NM': 'New Mexico',\n",
    "    'NV': 'Nevada',\n",
    "    'NY': 'New York',\n",
    "    'OH': 'Ohio',\n",
    "    'OK': 'Oklahoma',\n",
    "    'OR': 'Oregon',\n",
    "    'PA': 'Pennsylvania',\n",
    "    'RI': 'Rhode Island',\n",
    "    'SC': 'South Carolina',\n",
    "    'SD': 'South Dakota',\n",
    "    'TN': 'Tennessee',\n",
    "    'TX': 'Texas',\n",
    "    'UT': 'Utah',\n",
    "    'VA': 'Virginia',\n",
    "    'VT': 'Vermont',\n",
    "    'WA': 'Washington',\n",
    "    'WI': 'Wisconsin',\n",
    "    'WV': 'West Virginia',\n",
    "    'WY': 'Wyoming'\n",
    "}\n",
    "\n",
    "states_list = list(states.keys())"
   ]
  },
  {
   "cell_type": "code",
   "execution_count": 56,
   "id": "f2a4cbb7",
   "metadata": {},
   "outputs": [
    {
     "name": "stdout",
     "output_type": "stream",
     "text": [
      "Estados inválidos:  ['BI' 'PR']\n"
     ]
    }
   ],
   "source": [
    "print(\"Estados inválidos: \", df[~df['State'].isin(states_list)].State.unique())\n",
    "\n",
    "df = df[df['State'].isin(states_list)]"
   ]
  },
  {
   "cell_type": "code",
   "execution_count": 58,
   "id": "ff9bbac9",
   "metadata": {},
   "outputs": [],
   "source": [
    "df_grouped = df[['State', 'City', 'ZIP Code', 'Learning Modality', 'Student Count']].fillna(0)\n",
    "df_grouped['Country'] = 'United States'"
   ]
  },
  {
   "cell_type": "code",
   "execution_count": 63,
   "id": "13a79ae0",
   "metadata": {},
   "outputs": [
    {
     "name": "stderr",
     "output_type": "stream",
     "text": [
      "C:\\Users\\Adinan\\AppData\\Local\\Temp\\ipykernel_14056\\2477180058.py:1: FutureWarning: The default value of numeric_only in DataFrameGroupBy.sum is deprecated. In a future version, numeric_only will default to False. Either specify numeric_only or select only columns which should be valid for the function.\n",
      "  df_mood = df_grouped.groupby(['Country', 'State', 'Learning Modality']).sum()\n"
     ]
    }
   ],
   "source": [
    "df_mood = df_grouped.groupby(['Country', 'State', 'Learning Modality']).sum()"
   ]
  },
  {
   "cell_type": "code",
   "execution_count": 65,
   "id": "c2e5d7fd",
   "metadata": {},
   "outputs": [],
   "source": [
    "df_mood.to_csv(\"df_mood.csv\")"
   ]
  },
  {
   "cell_type": "code",
   "execution_count": 38,
   "id": "6cdaedd1",
   "metadata": {},
   "outputs": [
    {
     "data": {
      "text/plain": [
       "<bound method Series.unique of 0         AL\n",
       "1         AL\n",
       "2         AL\n",
       "3         AL\n",
       "4         AL\n",
       "          ..\n",
       "994783    BI\n",
       "994784    BI\n",
       "994785    BI\n",
       "994786    BI\n",
       "994787    PR\n",
       "Name: State, Length: 994788, dtype: object>"
      ]
     },
     "execution_count": 38,
     "metadata": {},
     "output_type": "execute_result"
    }
   ],
   "source": [
    "df.State.unique()"
   ]
  },
  {
   "cell_type": "code",
   "execution_count": 21,
   "id": "43236061",
   "metadata": {
    "scrolled": true
   },
   "outputs": [],
   "source": [
    "#df_mood = df.groupby([\"State\", \"Learning Modality\"])[\"Learning Modality\"].count()\n",
    "#df_mood.to_excel(\"df_mood.xlsx\")\n",
    "df_mood.to_csv(\"df_mood.csv\")\n",
    "\n",
    "df2 = pd.read_csv('df_mood.csv')\n",
    "df2.to_excel(\"df_mood.xlsx\")"
   ]
  },
  {
   "cell_type": "code",
   "execution_count": 15,
   "id": "ed5f91b7",
   "metadata": {},
   "outputs": [],
   "source": [
    "df_piv = df_mood.pivot_table(index='State', columns='Learning Modality', values='Student Count')\n"
   ]
  },
  {
   "cell_type": "code",
   "execution_count": 18,
   "id": "5e679faf",
   "metadata": {},
   "outputs": [],
   "source": [
    "df_piv = df_piv.fillna(0)\n",
    "df_piv.to_excel(\"df_piv.xlsx\")"
   ]
  },
  {
   "cell_type": "code",
   "execution_count": 55,
   "id": "d45754eb",
   "metadata": {
    "scrolled": true
   },
   "outputs": [
    {
     "data": {
      "image/png": "[encoded data removed]",
      "text/plain": [
       "<Figure size 720x576 with 2 Axes>"
      ]
     },
     "metadata": {
      "needs_background": "light"
     },
     "output_type": "display_data"
    }
   ],
   "source": [
    "plt.figure(figsize=(10, 8))\n",
    "sns.heatmap(df_piv, cmap='PuBu')\n",
    "plt.title('Learning Modality x Number of Students per State')\n",
    "plt.tight_layout()\n",
    "plt.savefig('HeatMap.png', dpi=300)\n",
    "plt.show()"
   ]
  },
  {
   "cell_type": "code",
   "execution_count": null,
   "id": "6317a628",
   "metadata": {},
   "outputs": [],
   "source": []
  },
  {
   "cell_type": "code",
   "execution_count": null,
   "id": "00a4fb8b",
   "metadata": {},
   "outputs": [],
   "source": []
  }
 ],
 "metadata": {
  "kernelspec": {
   "display_name": "Python 3 (ipykernel)",
   "language": "python",
   "name": "python3"
  },
  "language_info": {
   "codemirror_mode": {
    "name": "ipython",
    "version": 3
   },
   "file_extension": ".py",
   "mimetype": "text/x-python",
   "name": "python",
   "nbconvert_exporter": "python",
   "pygments_lexer": "ipython3",
   "version": "3.11.2"
  }
 },
 "nbformat": 4,
 "nbformat_minor": 5
}
