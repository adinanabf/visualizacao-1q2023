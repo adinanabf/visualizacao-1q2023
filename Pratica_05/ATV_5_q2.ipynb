{
 "cells": [
  {
   "cell_type": "code",
   "execution_count": 2,
   "id": "02106d59",
   "metadata": {},
   "outputs": [],
   "source": [
    "import yfinance as yf\n",
    "import pandas as pd\n",
    "import matplotlib.pyplot as plt"
   ]
  },
  {
   "cell_type": "code",
   "execution_count": 3,
   "id": "2dd53eec",
   "metadata": {},
   "outputs": [
    {
     "name": "stdout",
     "output_type": "stream",
     "text": [
      "[*********************100%***********************]  1 of 1 completed\n"
     ]
    }
   ],
   "source": [
    "#define dados\n",
    "ticker = \"OXY\"\n",
    "\n",
    "#salva os dados em um df e define periodo\n",
    "df_data = yf.download(ticker, period=\"2500d\")"
   ]
  },
  {
   "cell_type": "code",
   "execution_count": 4,
   "id": "0d1b1ff9",
   "metadata": {
    "scrolled": true
   },
   "outputs": [
    {
     "data": {
      "text/html": [
       "<div>\n",
       "<style scoped>\n",
       "    .dataframe tbody tr th:only-of-type {\n",
       "        vertical-align: middle;\n",
       "    }\n",
       "\n",
       "    .dataframe tbody tr th {\n",
       "        vertical-align: top;\n",
       "    }\n",
       "\n",
       "    .dataframe thead th {\n",
       "        text-align: right;\n",
       "    }\n",
       "</style>\n",
       "<table border=\"1\" class=\"dataframe\">\n",
       "  <thead>\n",
       "    <tr style=\"text-align: right;\">\n",
       "      <th></th>\n",
       "      <th>Open</th>\n",
       "      <th>High</th>\n",
       "      <th>Low</th>\n",
       "      <th>Close</th>\n",
       "      <th>Adj Close</th>\n",
       "      <th>Volume</th>\n",
       "    </tr>\n",
       "    <tr>\n",
       "      <th>Date</th>\n",
       "      <th></th>\n",
       "      <th></th>\n",
       "      <th></th>\n",
       "      <th></th>\n",
       "      <th></th>\n",
       "      <th></th>\n",
       "    </tr>\n",
       "  </thead>\n",
       "  <tbody>\n",
       "    <tr>\n",
       "      <th>2013-04-23</th>\n",
       "      <td>77.488007</td>\n",
       "      <td>79.087967</td>\n",
       "      <td>77.095200</td>\n",
       "      <td>78.264038</td>\n",
       "      <td>56.027462</td>\n",
       "      <td>5725833</td>\n",
       "    </tr>\n",
       "    <tr>\n",
       "      <th>2013-04-24</th>\n",
       "      <td>78.426910</td>\n",
       "      <td>81.013672</td>\n",
       "      <td>78.426910</td>\n",
       "      <td>80.793320</td>\n",
       "      <td>57.838116</td>\n",
       "      <td>7712345</td>\n",
       "    </tr>\n",
       "    <tr>\n",
       "      <th>2013-04-25</th>\n",
       "      <td>80.084351</td>\n",
       "      <td>84.232758</td>\n",
       "      <td>79.087967</td>\n",
       "      <td>81.962158</td>\n",
       "      <td>58.674854</td>\n",
       "      <td>9961366</td>\n",
       "    </tr>\n",
       "    <tr>\n",
       "      <th>2013-04-26</th>\n",
       "      <td>81.818443</td>\n",
       "      <td>83.284279</td>\n",
       "      <td>80.965775</td>\n",
       "      <td>83.025604</td>\n",
       "      <td>59.436161</td>\n",
       "      <td>5896699</td>\n",
       "    </tr>\n",
       "    <tr>\n",
       "      <th>2013-04-29</th>\n",
       "      <td>83.705826</td>\n",
       "      <td>84.347725</td>\n",
       "      <td>82.393280</td>\n",
       "      <td>84.175278</td>\n",
       "      <td>60.259186</td>\n",
       "      <td>9771399</td>\n",
       "    </tr>\n",
       "  </tbody>\n",
       "</table>\n",
       "</div>"
      ],
      "text/plain": [
       "                 Open       High        Low      Close  Adj Close   Volume\n",
       "Date                                                                      \n",
       "2013-04-23  77.488007  79.087967  77.095200  78.264038  56.027462  5725833\n",
       "2013-04-24  78.426910  81.013672  78.426910  80.793320  57.838116  7712345\n",
       "2013-04-25  80.084351  84.232758  79.087967  81.962158  58.674854  9961366\n",
       "2013-04-26  81.818443  83.284279  80.965775  83.025604  59.436161  5896699\n",
       "2013-04-29  83.705826  84.347725  82.393280  84.175278  60.259186  9771399"
      ]
     },
     "execution_count": 4,
     "metadata": {},
     "output_type": "execute_result"
    }
   ],
   "source": [
    "df_data.head()"
   ]
  },
  {
   "cell_type": "code",
   "execution_count": 5,
   "id": "8d339c78",
   "metadata": {},
   "outputs": [],
   "source": [
    "df_data[\"Day\"] = pd.to_datetime(df_data.index).strftime(\"%d\")\n",
    "df_data[\"Year/Mounth\"] = pd.to_datetime(df_data.index).strftime(\"%y-%m\")\n",
    "df_data[\"Year\"] = pd.to_datetime(df_data.index).strftime(\"%y\")"
   ]
  },
  {
   "cell_type": "code",
   "execution_count": 6,
   "id": "cc9d0328",
   "metadata": {},
   "outputs": [
    {
     "data": {
      "text/html": [
       "<div>\n",
       "<style scoped>\n",
       "    .dataframe tbody tr th:only-of-type {\n",
       "        vertical-align: middle;\n",
       "    }\n",
       "\n",
       "    .dataframe tbody tr th {\n",
       "        vertical-align: top;\n",
       "    }\n",
       "\n",
       "    .dataframe thead th {\n",
       "        text-align: right;\n",
       "    }\n",
       "</style>\n",
       "<table border=\"1\" class=\"dataframe\">\n",
       "  <thead>\n",
       "    <tr style=\"text-align: right;\">\n",
       "      <th></th>\n",
       "      <th>Open</th>\n",
       "      <th>High</th>\n",
       "      <th>Low</th>\n",
       "      <th>Close</th>\n",
       "      <th>Adj Close</th>\n",
       "      <th>Volume</th>\n",
       "      <th>Day</th>\n",
       "      <th>Year/Mounth</th>\n",
       "      <th>Year</th>\n",
       "    </tr>\n",
       "    <tr>\n",
       "      <th>Date</th>\n",
       "      <th></th>\n",
       "      <th></th>\n",
       "      <th></th>\n",
       "      <th></th>\n",
       "      <th></th>\n",
       "      <th></th>\n",
       "      <th></th>\n",
       "      <th></th>\n",
       "      <th></th>\n",
       "    </tr>\n",
       "  </thead>\n",
       "  <tbody>\n",
       "    <tr>\n",
       "      <th>2023-03-21</th>\n",
       "      <td>59.930000</td>\n",
       "      <td>60.750000</td>\n",
       "      <td>59.500000</td>\n",
       "      <td>60.240002</td>\n",
       "      <td>60.240002</td>\n",
       "      <td>16959100</td>\n",
       "      <td>21</td>\n",
       "      <td>23-03</td>\n",
       "      <td>23</td>\n",
       "    </tr>\n",
       "    <tr>\n",
       "      <th>2023-03-22</th>\n",
       "      <td>60.290001</td>\n",
       "      <td>60.419998</td>\n",
       "      <td>58.610001</td>\n",
       "      <td>58.680000</td>\n",
       "      <td>58.680000</td>\n",
       "      <td>13936200</td>\n",
       "      <td>22</td>\n",
       "      <td>23-03</td>\n",
       "      <td>23</td>\n",
       "    </tr>\n",
       "    <tr>\n",
       "      <th>2023-03-23</th>\n",
       "      <td>59.049999</td>\n",
       "      <td>59.560001</td>\n",
       "      <td>57.689999</td>\n",
       "      <td>58.480000</td>\n",
       "      <td>58.480000</td>\n",
       "      <td>15059300</td>\n",
       "      <td>23</td>\n",
       "      <td>23-03</td>\n",
       "      <td>23</td>\n",
       "    </tr>\n",
       "    <tr>\n",
       "      <th>2023-03-24</th>\n",
       "      <td>57.880001</td>\n",
       "      <td>58.599998</td>\n",
       "      <td>57.029999</td>\n",
       "      <td>58.180000</td>\n",
       "      <td>58.180000</td>\n",
       "      <td>13598000</td>\n",
       "      <td>24</td>\n",
       "      <td>23-03</td>\n",
       "      <td>23</td>\n",
       "    </tr>\n",
       "    <tr>\n",
       "      <th>2023-03-27</th>\n",
       "      <td>58.700001</td>\n",
       "      <td>59.860001</td>\n",
       "      <td>58.029999</td>\n",
       "      <td>59.650002</td>\n",
       "      <td>59.650002</td>\n",
       "      <td>13496172</td>\n",
       "      <td>27</td>\n",
       "      <td>23-03</td>\n",
       "      <td>23</td>\n",
       "    </tr>\n",
       "  </tbody>\n",
       "</table>\n",
       "</div>"
      ],
      "text/plain": [
       "                 Open       High        Low      Close  Adj Close    Volume  \\\n",
       "Date                                                                          \n",
       "2023-03-21  59.930000  60.750000  59.500000  60.240002  60.240002  16959100   \n",
       "2023-03-22  60.290001  60.419998  58.610001  58.680000  58.680000  13936200   \n",
       "2023-03-23  59.049999  59.560001  57.689999  58.480000  58.480000  15059300   \n",
       "2023-03-24  57.880001  58.599998  57.029999  58.180000  58.180000  13598000   \n",
       "2023-03-27  58.700001  59.860001  58.029999  59.650002  59.650002  13496172   \n",
       "\n",
       "           Day Year/Mounth Year  \n",
       "Date                             \n",
       "2023-03-21  21       23-03   23  \n",
       "2023-03-22  22       23-03   23  \n",
       "2023-03-23  23       23-03   23  \n",
       "2023-03-24  24       23-03   23  \n",
       "2023-03-27  27       23-03   23  "
      ]
     },
     "execution_count": 6,
     "metadata": {},
     "output_type": "execute_result"
    }
   ],
   "source": [
    "df_data.tail()"
   ]
  },
  {
   "cell_type": "code",
   "execution_count": 36,
   "id": "b935d57e",
   "metadata": {},
   "outputs": [
    {
     "data": {
      "text/plain": [
       "array(['13', '14', '15', '16', '17', '18', '19', '20', '21', '22', '23'],\n",
       "      dtype=object)"
      ]
     },
     "execution_count": 36,
     "metadata": {},
     "output_type": "execute_result"
    }
   ],
   "source": [
    "df_day = df_data[df_data.index.isin(df_data.resample(\"MS\").first().index)]\n",
    "df_day = df_day.drop(['Open', 'High', 'Low', 'Close', 'Adj Close'], axis=1)\n",
    "df_day['Year'].unique()"
   ]
  },
  {
   "cell_type": "code",
   "execution_count": 37,
   "id": "3c68bc89",
   "metadata": {},
   "outputs": [],
   "source": [
    "color_dict = {\n",
    "    '13':'green', '14': 'red', '15':'blue', '16': 'cyan',\n",
    "    '17':'green', '18': 'red', '19':'blue', '20': 'cyan',\n",
    "    '21':'green', '22': 'red', '23':'blue'\n",
    "}"
   ]
  },
  {
   "cell_type": "code",
   "execution_count": 54,
   "id": "b8a0d98d",
   "metadata": {
    "scrolled": true
   },
   "outputs": [
    {
     "data": {
      "image/png": "[encoded data removed]",
      "text/plain": [
       "<Figure size 864x1296 with 1 Axes>"
      ]
     },
     "metadata": {
      "needs_background": "light"
     },
     "output_type": "display_data"
    }
   ],
   "source": [
    "df_day.plot(kind=\"barh\", figsize=(12, 18), x = 'Year/Mounth', y = 'Volume', zorder=2)\n",
    "plt.title(\"Volume negociado por mês do ativo \" + ticker)\n",
    "plt.xlabel(\"Data Ano/Mês\")\n",
    "plt.ylabel(\"Volume\")\n",
    "plt.grid(zorder=0, color='lightgray')\n",
    "plt.show()"
   ]
  },
  {
   "cell_type": "code",
   "execution_count": null,
   "id": "3f065eb5",
   "metadata": {},
   "outputs": [],
   "source": []
  }
 ],
 "metadata": {
  "kernelspec": {
   "display_name": "Python 3 (ipykernel)",
   "language": "python",
   "name": "python3"
  }
 },
 "nbformat": 4,
 "nbformat_minor": 5
}
