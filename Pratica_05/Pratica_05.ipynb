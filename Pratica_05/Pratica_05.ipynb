{
 "cells": [
  {
   "cell_type": "code",
   "execution_count": 14,
   "id": "33152f7e",
   "metadata": {},
   "outputs": [],
   "source": [
    "import yfinance as yf\n",
    "import matplotlib.pyplot as plt"
   ]
  },
  {
   "cell_type": "code",
   "execution_count": 15,
   "id": "00d7feed",
   "metadata": {},
   "outputs": [
    {
     "name": "stdout",
     "output_type": "stream",
     "text": [
      "[*********************100%***********************]  2 of 2 completed\n"
     ]
    }
   ],
   "source": [
    "# Defina os tickers para as ações que você deseja analisar\n",
    "tickers = [\"MSFT\", \"ORCL\"]\n",
    "\n",
    "# Recupere os dados dos últimos 2 meses para cada ação\n",
    "data = yf.download(tickers, period=\"2mo\")"
   ]
  },
  {
   "cell_type": "code",
   "execution_count": 16,
   "id": "391f84ba",
   "metadata": {},
   "outputs": [
    {
     "data": {
      "text/html": [
       "<div>\n",
       "<style scoped>\n",
       "    .dataframe tbody tr th:only-of-type {\n",
       "        vertical-align: middle;\n",
       "    }\n",
       "\n",
       "    .dataframe tbody tr th {\n",
       "        vertical-align: top;\n",
       "    }\n",
       "\n",
       "    .dataframe thead tr th {\n",
       "        text-align: left;\n",
       "    }\n",
       "\n",
       "    .dataframe thead tr:last-of-type th {\n",
       "        text-align: right;\n",
       "    }\n",
       "</style>\n",
       "<table border=\"1\" class=\"dataframe\">\n",
       "  <thead>\n",
       "    <tr>\n",
       "      <th></th>\n",
       "      <th colspan=\"2\" halign=\"left\">Adj Close</th>\n",
       "      <th colspan=\"2\" halign=\"left\">Close</th>\n",
       "      <th colspan=\"2\" halign=\"left\">High</th>\n",
       "      <th colspan=\"2\" halign=\"left\">Low</th>\n",
       "      <th colspan=\"2\" halign=\"left\">Open</th>\n",
       "      <th colspan=\"2\" halign=\"left\">Volume</th>\n",
       "    </tr>\n",
       "    <tr>\n",
       "      <th></th>\n",
       "      <th>MSFT</th>\n",
       "      <th>ORCL</th>\n",
       "      <th>MSFT</th>\n",
       "      <th>ORCL</th>\n",
       "      <th>MSFT</th>\n",
       "      <th>ORCL</th>\n",
       "      <th>MSFT</th>\n",
       "      <th>ORCL</th>\n",
       "      <th>MSFT</th>\n",
       "      <th>ORCL</th>\n",
       "      <th>MSFT</th>\n",
       "      <th>ORCL</th>\n",
       "    </tr>\n",
       "    <tr>\n",
       "      <th>Date</th>\n",
       "      <th></th>\n",
       "      <th></th>\n",
       "      <th></th>\n",
       "      <th></th>\n",
       "      <th></th>\n",
       "      <th></th>\n",
       "      <th></th>\n",
       "      <th></th>\n",
       "      <th></th>\n",
       "      <th></th>\n",
       "      <th></th>\n",
       "      <th></th>\n",
       "    </tr>\n",
       "  </thead>\n",
       "  <tbody>\n",
       "    <tr>\n",
       "      <th>2023-01-27</th>\n",
       "      <td>247.539993</td>\n",
       "      <td>88.989998</td>\n",
       "      <td>248.160004</td>\n",
       "      <td>88.989998</td>\n",
       "      <td>249.830002</td>\n",
       "      <td>89.720001</td>\n",
       "      <td>246.830002</td>\n",
       "      <td>88.959999</td>\n",
       "      <td>248.990005</td>\n",
       "      <td>89.500000</td>\n",
       "      <td>26498900</td>\n",
       "      <td>5676800</td>\n",
       "    </tr>\n",
       "    <tr>\n",
       "      <th>2023-01-30</th>\n",
       "      <td>242.103607</td>\n",
       "      <td>87.349998</td>\n",
       "      <td>242.710007</td>\n",
       "      <td>87.349998</td>\n",
       "      <td>245.600006</td>\n",
       "      <td>88.620003</td>\n",
       "      <td>242.199997</td>\n",
       "      <td>86.989998</td>\n",
       "      <td>244.509995</td>\n",
       "      <td>88.470001</td>\n",
       "      <td>25867400</td>\n",
       "      <td>6255300</td>\n",
       "    </tr>\n",
       "    <tr>\n",
       "      <th>2023-01-31</th>\n",
       "      <td>247.190857</td>\n",
       "      <td>88.459999</td>\n",
       "      <td>247.809998</td>\n",
       "      <td>88.459999</td>\n",
       "      <td>247.949997</td>\n",
       "      <td>88.480003</td>\n",
       "      <td>242.949997</td>\n",
       "      <td>87.349998</td>\n",
       "      <td>243.449997</td>\n",
       "      <td>87.690002</td>\n",
       "      <td>26541100</td>\n",
       "      <td>6200400</td>\n",
       "    </tr>\n",
       "    <tr>\n",
       "      <th>2023-02-01</th>\n",
       "      <td>252.118515</td>\n",
       "      <td>90.050003</td>\n",
       "      <td>252.750000</td>\n",
       "      <td>90.050003</td>\n",
       "      <td>255.179993</td>\n",
       "      <td>90.650002</td>\n",
       "      <td>245.470001</td>\n",
       "      <td>88.209999</td>\n",
       "      <td>248.000000</td>\n",
       "      <td>88.370003</td>\n",
       "      <td>31259900</td>\n",
       "      <td>6141300</td>\n",
       "    </tr>\n",
       "    <tr>\n",
       "      <th>2023-02-02</th>\n",
       "      <td>263.938904</td>\n",
       "      <td>89.379997</td>\n",
       "      <td>264.600006</td>\n",
       "      <td>89.379997</td>\n",
       "      <td>264.690002</td>\n",
       "      <td>91.220001</td>\n",
       "      <td>257.250000</td>\n",
       "      <td>88.949997</td>\n",
       "      <td>258.820007</td>\n",
       "      <td>90.660004</td>\n",
       "      <td>39940400</td>\n",
       "      <td>8269200</td>\n",
       "    </tr>\n",
       "  </tbody>\n",
       "</table>\n",
       "</div>"
      ],
      "text/plain": [
       "             Adj Close                  Close                   High  \\\n",
       "                  MSFT       ORCL        MSFT       ORCL        MSFT   \n",
       "Date                                                                   \n",
       "2023-01-27  247.539993  88.989998  248.160004  88.989998  249.830002   \n",
       "2023-01-30  242.103607  87.349998  242.710007  87.349998  245.600006   \n",
       "2023-01-31  247.190857  88.459999  247.809998  88.459999  247.949997   \n",
       "2023-02-01  252.118515  90.050003  252.750000  90.050003  255.179993   \n",
       "2023-02-02  263.938904  89.379997  264.600006  89.379997  264.690002   \n",
       "\n",
       "                              Low                   Open               Volume  \\\n",
       "                 ORCL        MSFT       ORCL        MSFT       ORCL      MSFT   \n",
       "Date                                                                            \n",
       "2023-01-27  89.720001  246.830002  88.959999  248.990005  89.500000  26498900   \n",
       "2023-01-30  88.620003  242.199997  86.989998  244.509995  88.470001  25867400   \n",
       "2023-01-31  88.480003  242.949997  87.349998  243.449997  87.690002  26541100   \n",
       "2023-02-01  90.650002  245.470001  88.209999  248.000000  88.370003  31259900   \n",
       "2023-02-02  91.220001  257.250000  88.949997  258.820007  90.660004  39940400   \n",
       "\n",
       "                     \n",
       "               ORCL  \n",
       "Date                 \n",
       "2023-01-27  5676800  \n",
       "2023-01-30  6255300  \n",
       "2023-01-31  6200400  \n",
       "2023-02-01  6141300  \n",
       "2023-02-02  8269200  "
      ]
     },
     "execution_count": 16,
     "metadata": {},
     "output_type": "execute_result"
    }
   ],
   "source": [
    "data.head()"
   ]
  },
  {
   "cell_type": "code",
   "execution_count": 17,
   "id": "115200c2",
   "metadata": {},
   "outputs": [
    {
     "data": {
      "text/html": [
       "<div>\n",
       "<style scoped>\n",
       "    .dataframe tbody tr th:only-of-type {\n",
       "        vertical-align: middle;\n",
       "    }\n",
       "\n",
       "    .dataframe tbody tr th {\n",
       "        vertical-align: top;\n",
       "    }\n",
       "\n",
       "    .dataframe thead th {\n",
       "        text-align: right;\n",
       "    }\n",
       "</style>\n",
       "<table border=\"1\" class=\"dataframe\">\n",
       "  <thead>\n",
       "    <tr style=\"text-align: right;\">\n",
       "      <th></th>\n",
       "      <th>MSFT</th>\n",
       "      <th>ORCL</th>\n",
       "    </tr>\n",
       "    <tr>\n",
       "      <th>Date</th>\n",
       "      <th></th>\n",
       "      <th></th>\n",
       "    </tr>\n",
       "  </thead>\n",
       "  <tbody>\n",
       "    <tr>\n",
       "      <th>2023-01-27</th>\n",
       "      <td>-0.333347</td>\n",
       "      <td>-0.569835</td>\n",
       "    </tr>\n",
       "    <tr>\n",
       "      <th>2023-01-30</th>\n",
       "      <td>-0.736161</td>\n",
       "      <td>-1.265969</td>\n",
       "    </tr>\n",
       "    <tr>\n",
       "      <th>2023-01-31</th>\n",
       "      <td>1.790922</td>\n",
       "      <td>0.878089</td>\n",
       "    </tr>\n",
       "    <tr>\n",
       "      <th>2023-02-01</th>\n",
       "      <td>1.915323</td>\n",
       "      <td>1.901098</td>\n",
       "    </tr>\n",
       "    <tr>\n",
       "      <th>2023-02-02</th>\n",
       "      <td>2.233212</td>\n",
       "      <td>-1.411876</td>\n",
       "    </tr>\n",
       "  </tbody>\n",
       "</table>\n",
       "</div>"
      ],
      "text/plain": [
       "                MSFT      ORCL\n",
       "Date                          \n",
       "2023-01-27 -0.333347 -0.569835\n",
       "2023-01-30 -0.736161 -1.265969\n",
       "2023-01-31  1.790922  0.878089\n",
       "2023-02-01  1.915323  1.901098\n",
       "2023-02-02  2.233212 -1.411876"
      ]
     },
     "execution_count": 17,
     "metadata": {},
     "output_type": "execute_result"
    }
   ],
   "source": [
    "# Calcula a diferença de preço diária (em porcentagem) para cada ação nos últimos 2 meses\n",
    "df_dif_diaria = (data[\"Close\"] - data[\"Open\"]) / data[\"Open\"] * 100\n",
    "df_dif_diaria.head()"
   ]
  },
  {
   "cell_type": "code",
   "execution_count": 18,
   "id": "f6ee0cc0",
   "metadata": {},
   "outputs": [
    {
     "data": {
      "image/png": "[encoded data removed]",
      "text/plain": [
       "<Figure size 432x288 with 1 Axes>"
      ]
     },
     "metadata": {
      "needs_background": "light"
     },
     "output_type": "display_data"
    }
   ],
   "source": [
    "# Histograma de diferença de preço diária para cada ação\n",
    "plt.hist(df_dif_diaria, bins=20)\n",
    "plt.legend(tickers)\n",
    "plt.title(\"Diferença diária de preço\")\n",
    "plt.xlabel(\"Diferença de preço (%)\")\n",
    "plt.ylabel(\"Frequencia\")\n",
    "plt.savefig(\"Pr05_Q01_preco.pdf\", format=\"pdf\", bbox_inches=\"tight\")\n",
    "plt.show()"
   ]
  },
  {
   "cell_type": "code",
   "execution_count": 19,
   "id": "85358bd0",
   "metadata": {},
   "outputs": [
    {
     "data": {
      "text/html": [
       "<div>\n",
       "<style scoped>\n",
       "    .dataframe tbody tr th:only-of-type {\n",
       "        vertical-align: middle;\n",
       "    }\n",
       "\n",
       "    .dataframe tbody tr th {\n",
       "        vertical-align: top;\n",
       "    }\n",
       "\n",
       "    .dataframe thead th {\n",
       "        text-align: right;\n",
       "    }\n",
       "</style>\n",
       "<table border=\"1\" class=\"dataframe\">\n",
       "  <thead>\n",
       "    <tr style=\"text-align: right;\">\n",
       "      <th></th>\n",
       "      <th>MSFT</th>\n",
       "      <th>ORCL</th>\n",
       "    </tr>\n",
       "    <tr>\n",
       "      <th>Date</th>\n",
       "      <th></th>\n",
       "      <th></th>\n",
       "    </tr>\n",
       "  </thead>\n",
       "  <tbody>\n",
       "    <tr>\n",
       "      <th>2023-01-27</th>\n",
       "      <td>1.064246e+07</td>\n",
       "      <td>6.342693e+06</td>\n",
       "    </tr>\n",
       "    <tr>\n",
       "      <th>2023-01-30</th>\n",
       "      <td>1.057918e+07</td>\n",
       "      <td>7.070432e+06</td>\n",
       "    </tr>\n",
       "    <tr>\n",
       "      <th>2023-01-31</th>\n",
       "      <td>1.090197e+07</td>\n",
       "      <td>7.070717e+06</td>\n",
       "    </tr>\n",
       "    <tr>\n",
       "      <th>2023-02-01</th>\n",
       "      <td>1.260470e+07</td>\n",
       "      <td>6.949430e+06</td>\n",
       "    </tr>\n",
       "    <tr>\n",
       "      <th>2023-02-02</th>\n",
       "      <td>1.543163e+07</td>\n",
       "      <td>9.121011e+06</td>\n",
       "    </tr>\n",
       "  </tbody>\n",
       "</table>\n",
       "</div>"
      ],
      "text/plain": [
       "                    MSFT          ORCL\n",
       "Date                                  \n",
       "2023-01-27  1.064246e+07  6.342693e+06\n",
       "2023-01-30  1.057918e+07  7.070432e+06\n",
       "2023-01-31  1.090197e+07  7.070717e+06\n",
       "2023-02-01  1.260470e+07  6.949430e+06\n",
       "2023-02-02  1.543163e+07  9.121011e+06"
      ]
     },
     "execution_count": 19,
     "metadata": {},
     "output_type": "execute_result"
    }
   ],
   "source": [
    "# Calcula a diferença de volume diário para cada estoque\n",
    "df_dif_volume = (data[\"Volume\"] - data[\"Open\"]) / data[\"Open\"] * 100\n",
    "df_dif_volume.head()"
   ]
  },
  {
   "cell_type": "code",
   "execution_count": 20,
   "id": "ea6d5e4b",
   "metadata": {},
   "outputs": [
    {
     "data": {
      "image/png": "[encoded data removed]",
      "text/plain": [
       "<Figure size 432x288 with 1 Axes>"
      ]
     },
     "metadata": {
      "needs_background": "light"
     },
     "output_type": "display_data"
    }
   ],
   "source": [
    "# Histograma de diferença de volume diário para cada ação\n",
    "plt.hist(df_dif_volume, bins=20)\n",
    "plt.legend(tickers)\n",
    "plt.title(\"Diferença de volume diário\")\n",
    "plt.xlabel(\"Diferença de volume (%)\")\n",
    "plt.ylabel(\"Frequencia\")\n",
    "plt.savefig(\"Pr05_Q01_volume.pdf\", format=\"pdf\", bbox_inches=\"tight\")\n",
    "plt.show()"
   ]
  },
  {
   "cell_type": "code",
   "execution_count": null,
   "id": "b6e8f432",
   "metadata": {},
   "outputs": [],
   "source": []
  }
 ],
 "metadata": {
  "kernelspec": {
   "display_name": "Python 3 (ipykernel)",
   "language": "python",
   "name": "python3"
  }
 },
 "nbformat": 4,
 "nbformat_minor": 5
}
